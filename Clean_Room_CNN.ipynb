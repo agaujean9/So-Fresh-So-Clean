{
 "cells": [
  {
   "cell_type": "markdown",
   "metadata": {},
   "source": [
    "# Clean Room CNN"
   ]
  },
  {
   "cell_type": "code",
   "execution_count": 1,
   "metadata": {},
   "outputs": [
    {
     "name": "stderr",
     "output_type": "stream",
     "text": [
      "Using TensorFlow backend.\n"
     ]
    }
   ],
   "source": [
    "#import necessary libraries \n",
    "import os, shutil\n",
    "import numpy as np\n",
    "import pandas as pd \n",
    "import matplotlib as plt\n",
    "import time\n",
    "import matplotlib.pyplot as plt\n",
    "import scipy\n",
    "from PIL import Image\n",
    "from scipy import ndimage\n",
    "from keras import models\n",
    "from keras.layers import Dense, Dropout\n",
    "from keras.preprocessing import image\n",
    "from keras.preprocessing.image import ImageDataGenerator, array_to_img, img_to_array, load_img\n",
    "%matplotlib inline\n",
    "import seaborn as sns "
   ]
  },
  {
   "cell_type": "markdown",
   "metadata": {},
   "source": [
    "# Preparing our Data"
   ]
  },
  {
   "cell_type": "markdown",
   "metadata": {},
   "source": [
    "__Create Directory and Allocate Images__"
   ]
  },
  {
   "cell_type": "markdown",
   "metadata": {},
   "source": [
    "In order to amass our clean room data we used the AED20k Dataset of online images that had prelabeled scenes. The scenes we decided to look at specifically were tagged \"kitchen\", \"living room\", and \"bedroom\". Bathrooms we determined were not necessary as they should be cleaned regardless of thier perceived cleanliness for obvious hygene purposes. In total we were able to download about 2000 images of clean rooms but the real challenge was going to be collecting dirty images. "
   ]
  },
  {
   "cell_type": "code",
   "execution_count": 2,
   "metadata": {},
   "outputs": [],
   "source": [
    "#create objects for our images in our train sets\n",
    "train_clean_room_dir = '/Users/AlexGaujean/Downloads/data/train_folder/train_clean_room'\n",
    "train_dirty_room_dir = '/Users/AlexGaujean/Downloads/data/train_folder/train_dirty_room'\n",
    "\n",
    "\n",
    "#create directory objects for our items in our validation and test sets\n",
    "validation_clean_room_dir = '/Users/AlexGaujean/Downloads/data/validation_folder/val_clean_room'\n",
    "validation_dirty_room_dir = '/Users/AlexGaujean/Downloads/data/validation_folder/val_dirty_room'\n",
    "test_clean_room_dir = '/Users/AlexGaujean/Downloads/data/test_folder/test_clean_room'\n",
    "test_dirty_room_dir = '/Users/AlexGaujean/Downloads/data/test_folder/test_dirty_room'"
   ]
  },
  {
   "cell_type": "code",
   "execution_count": 3,
   "metadata": {},
   "outputs": [],
   "source": [
    "#create  variables that contain our list of clean and dirty photos\n",
    "train_imgs_clean = [file for file in os.listdir(train_clean_room_dir) if file.endswith('.jpg')]\n",
    "val_imgs_clean = [file for file in os.listdir(validation_clean_room_dir) if file.endswith('.jpg')]\n",
    "test_imgs_clean = [file for file in os.listdir(test_clean_room_dir) if file.endswith('.jpg')]\n",
    "\n",
    "\n",
    "train_imgs_dirty = [file for file in os.listdir(train_dirty_room_dir) if file.endswith('.jpg')]\n",
    "val_imgs_dirty = [file for file in os.listdir(validation_dirty_room_dir) if file.endswith('.jpg')]\n",
    "test_imgs_dirty = [file for file in os.listdir(test_dirty_room_dir) if file.endswith('.jpg')]"
   ]
  },
  {
   "cell_type": "code",
   "execution_count": 4,
   "metadata": {},
   "outputs": [
    {
     "name": "stdout",
     "output_type": "stream",
     "text": [
      "1672 train images\n",
      "363 validation images\n",
      "390 test images\n"
     ]
    }
   ],
   "source": [
    "#examine the size of each of our train and test set images for our clean data and set up variables to use later\n",
    "batch_size_train = len(train_imgs_clean) + len(train_imgs_dirty) \n",
    "batch_size_val = len(val_imgs_clean) + len(val_imgs_dirty) \n",
    "batch_size_test = len(test_imgs_clean) +len(test_imgs_dirty) \n",
    "\n",
    "print(batch_size_train, 'train images') \n",
    "print(batch_size_val, 'validation images') \n",
    "print(batch_size_test, 'test images')"
   ]
  },
  {
   "cell_type": "code",
   "execution_count": 5,
   "metadata": {},
   "outputs": [],
   "source": [
    "#establish directories for all of our train, test, and validation data \n",
    "train_dir = '/Users/AlexGaujean/Downloads/data/train_folder'\n",
    "val_dir = '/Users/AlexGaujean/Downloads/data/validation_folder'\n",
    "test_dir = '/Users/AlexGaujean/Downloads/data/test_folder'"
   ]
  },
  {
   "cell_type": "markdown",
   "metadata": {},
   "source": [
    "__Webscraping for Dirty Rooms:__ Run this JavaScript in the chrome console"
   ]
  },
  {
   "cell_type": "code",
   "execution_count": null,
   "metadata": {},
   "outputs": [],
   "source": [
    "#run this Javascript code in the chrome console# \n",
    "// pull down jquery into the JavaScript console\n",
    "var script = document.createElement('script');\n",
    "script.src = \"https://ajax.googleapis.com/ajax/libs/jquery/2.2.0/jquery.min.js\";\n",
    "document.getElementsByTagName('head')[0].appendChild(script);\n",
    "\n",
    "\n",
    "\n",
    "// grab the URLs\n",
    "var urls = $('.rg_di .rg_meta').map(function() { return JSON.parse($(this).text()).ou; });\n",
    "\n",
    "\n",
    "\n",
    "// write the URls to file (one per line)\n",
    "var textToSave = urls.toArray().join('\\n');\n",
    "var hiddenElement = document.createElement('a');\n",
    "hiddenElement.href = 'data:attachment/text,' + encodeURI(textToSave);\n",
    "hiddenElement.target = '_blank';\n",
    "hiddenElement.download = 'urls.txt';\n",
    "hiddenElement.click();\n",
    "\n",
    "#run this code in the chrome console# "
   ]
  },
  {
   "cell_type": "code",
   "execution_count": null,
   "metadata": {},
   "outputs": [],
   "source": [
    "# combine txt files\n",
    "filenames = ['dirty_bedroom_urls.txt','dirty_kitchen_urls.txt','disorganized_room_urls.txt',\n",
    "             'messy_bedroom_urls.txt','messy_kitchen_urls.txt','messy_living_room_urls.txt',\n",
    "            'messy_room_urls.txt','not_clean_bedroom_urls.txt','slightly_messy_rooms_urls.txt']\n",
    "with open('messy_rooms.txt', 'w') as outfile:\n",
    "    for fname in filenames:\n",
    "        with open(fname) as infile:\n",
    "            outfile.write(infile.read())"
   ]
  },
  {
   "cell_type": "code",
   "execution_count": null,
   "metadata": {},
   "outputs": [],
   "source": [
    "# ensure that different queries does not leave us with identical images by removing duplicate urls\n",
    "\n",
    "file = open('messy_rooms.txt', 'r')\n",
    "\n",
    "lines_seen = set() # holds lines already seen\n",
    "outfile = open('messy_rooms_no_duplicates.txt', \"w\")\n",
    "for line in open('messy_rooms.txt', \"r\"):\n",
    "    if line not in lines_seen: # not a duplicate\n",
    "        outfile.write(line)\n",
    "        lines_seen.add(line)\n",
    "outfile.close()"
   ]
  },
  {
   "cell_type": "code",
   "execution_count": null,
   "metadata": {},
   "outputs": [],
   "source": [
    "# download images from url txt file\n",
    "# import the necessary packages\n",
    "from imutils import paths\n",
    "import argparse\n",
    "import requests\n",
    "import cv2\n",
    "import os"
   ]
  },
  {
   "cell_type": "code",
   "execution_count": null,
   "metadata": {},
   "outputs": [],
   "source": [
    "# construct the argument parse and parse the arguments\n",
    "ap = argparse.ArgumentParser()\n",
    "ap.add_argument(\"-u\", \"--urls\", required=True,\n",
    "help=\"messy_rooms_no_duplicates.txt\")\n",
    "ap.add_argument(\"-o\", \"--output\", required=True,\n",
    "help=\"images\")\n",
    "args = vars(ap.parse_args())\n",
    "\n",
    "# grab the list of URLs from the input file, then initialize the\n",
    "# total number of images downloaded thus far\n",
    "rows = open(args[\"urls\"]).read().strip().split(\"\\n\")\n",
    "total = 0\n",
    "\n",
    "%tb"
   ]
  },
  {
   "cell_type": "markdown",
   "metadata": {},
   "source": [
    "__Scale and Normalize Images and Create Datasets__"
   ]
  },
  {
   "cell_type": "code",
   "execution_count": 6,
   "metadata": {},
   "outputs": [],
   "source": [
    "#import necessary python libraries\n",
    "import time\n",
    "import matplotlib.pyplot as plt\n",
    "import scipy\n",
    "from PIL import Image\n",
    "from scipy import ndimage\n",
    "from keras.preprocessing.image import ImageDataGenerator, array_to_img, img_to_array, load_img\n",
    "\n",
    "np.random.seed(123)"
   ]
  },
  {
   "cell_type": "code",
   "execution_count": 7,
   "metadata": {},
   "outputs": [
    {
     "name": "stdout",
     "output_type": "stream",
     "text": [
      "Found 1673 images belonging to 2 classes.\n",
      "Found 390 images belonging to 2 classes.\n",
      "Found 363 images belonging to 2 classes.\n"
     ]
    }
   ],
   "source": [
    "#get all the data in the directory split/test and reshape them using ImageDataGenerator from keras\n",
    "train_generator = ImageDataGenerator(rescale=1./255).flow_from_directory(\n",
    "        train_dir, \n",
    "        target_size=(64, 64), batch_size= batch_size_train)\n",
    "#get all the data in the test directory adn reshape them to 64X64 pixel size\n",
    "test_generator = ImageDataGenerator(rescale=1./255).flow_from_directory(\n",
    "        test_dir, \n",
    "        target_size=(64, 64), batch_size = batch_size_test)  \n",
    "\n",
    "# get all the data in the directory split/validation (363 images), and reshape them\n",
    "val_generator = ImageDataGenerator(rescale=1./255).flow_from_directory(\n",
    "        val_dir, \n",
    "        target_size=(64, 64), batch_size = batch_size_val)"
   ]
  },
  {
   "cell_type": "code",
   "execution_count": 8,
   "metadata": {},
   "outputs": [
    {
     "name": "stderr",
     "output_type": "stream",
     "text": [
      "/Users/AlexGaujean/anaconda3/lib/python3.7/site-packages/PIL/TiffImagePlugin.py:768: UserWarning: Possibly corrupt EXIF data.  Expecting to read 12 bytes but only got 10. Skipping tag 42037\n",
      "  \" Skipping tag %s\" % (size, len(data), tag))\n",
      "/Users/AlexGaujean/anaconda3/lib/python3.7/site-packages/PIL/TiffImagePlugin.py:768: UserWarning: Possibly corrupt EXIF data.  Expecting to read 12 bytes but only got 10. Skipping tag 42037\n",
      "  \" Skipping tag %s\" % (size, len(data), tag))\n",
      "/Users/AlexGaujean/anaconda3/lib/python3.7/site-packages/PIL/TiffImagePlugin.py:768: UserWarning: Possibly corrupt EXIF data.  Expecting to read 12 bytes but only got 10. Skipping tag 42037\n",
      "  \" Skipping tag %s\" % (size, len(data), tag))\n"
     ]
    }
   ],
   "source": [
    "# create our image datasets and corresponding labels for our train, validation and test sets\n",
    "train_images, train_labels = next(train_generator)\n",
    "test_images, test_labels = next(test_generator)\n",
    "val_images, val_labels = next(val_generator)"
   ]
  },
  {
   "cell_type": "code",
   "execution_count": 9,
   "metadata": {},
   "outputs": [],
   "source": [
    "#reshape our labels so that it is either a 0 for dirty rooms, or 1 for clean rooms \n",
    "train_y = np.reshape(train_labels[:,0], (batch_size_train,1))\n",
    "test_y = np.reshape(test_labels[:,0], (batch_size_test,1))\n",
    "val_y = np.reshape(val_labels[:,0], (batch_size_val,1))"
   ]
  },
  {
   "cell_type": "code",
   "execution_count": 10,
   "metadata": {},
   "outputs": [
    {
     "name": "stdout",
     "output_type": "stream",
     "text": [
      "[0.]\n"
     ]
    },
    {
     "data": {
      "image/png": "[encoded data removed]",
      "text/plain": [
       "<PIL.Image.Image image mode=RGB size=64x64 at 0x1A384E0860>"
      ]
     },
     "execution_count": 10,
     "metadata": {},
     "output_type": "execute_result"
    }
   ],
   "source": [
    "#check to make sure the labels correspond to the correct images \n",
    "print(train_y[1412])\n",
    "array_to_img(train_images[1412])"
   ]
  },
  {
   "cell_type": "markdown",
   "metadata": {},
   "source": [
    "__Reshape Image Arrays for CNN Use__"
   ]
  },
  {
   "cell_type": "code",
   "execution_count": 11,
   "metadata": {
    "scrolled": true
   },
   "outputs": [
    {
     "name": "stdout",
     "output_type": "stream",
     "text": [
      "Number of training samples: 1672\n",
      "Number of testing samples: 390\n",
      "Number of validation samples: 363\n",
      "train_images shape: (1672, 64, 64, 3)\n",
      "train_labels shape: (1672, 2)\n",
      "test_images shape: (390, 64, 64, 3)\n",
      "test_labels shape: (390, 2)\n",
      "val_images shape: (363, 64, 64, 3)\n",
      "val_labels shape: (363, 2)\n"
     ]
    }
   ],
   "source": [
    "# Explore our datasets again and print the shape of each of our images to ensure that we converted it properly\n",
    "m_train = train_images.shape[0]\n",
    "num_px = train_images.shape[1]\n",
    "m_test = test_images.shape[0]\n",
    "m_val = val_images.shape[0]\n",
    "\n",
    "print (\"Number of training samples: \" + str(m_train))\n",
    "print (\"Number of testing samples: \" + str(m_test))\n",
    "print (\"Number of validation samples: \" + str(m_val))\n",
    "print (\"train_images shape: \" + str(train_images.shape))\n",
    "print (\"train_labels shape: \" + str(train_labels.shape))\n",
    "print (\"test_images shape: \" + str(test_images.shape))\n",
    "print (\"test_labels shape: \" + str(test_labels.shape))\n",
    "print (\"val_images shape: \" + str(val_images.shape))\n",
    "print (\"val_labels shape: \" + str(val_labels.shape))"
   ]
  },
  {
   "cell_type": "code",
   "execution_count": 12,
   "metadata": {},
   "outputs": [
    {
     "name": "stdout",
     "output_type": "stream",
     "text": [
      "(1672, 12288) = train size\n",
      "(390, 12288) = test size\n",
      "(363, 12288) = val size\n"
     ]
    }
   ],
   "source": [
    "#reshape our train, test, val image data into a single row that can then be used\n",
    "train_img = train_images.reshape(train_images.shape[0], -1)\n",
    "test_img = test_images.reshape(test_images.shape[0], -1)\n",
    "val_img = val_images.reshape(val_images.shape[0], -1)\n",
    "\n",
    "print(train_img.shape, '= train size')\n",
    "print(test_img.shape, '= test size')  \n",
    "print(val_img.shape, '= val size')"
   ]
  },
  {
   "cell_type": "markdown",
   "metadata": {},
   "source": [
    "# CNN Models"
   ]
  },
  {
   "cell_type": "code",
   "execution_count": 13,
   "metadata": {},
   "outputs": [],
   "source": [
    "#import necessary libraries\n",
    "from keras import models\n",
    "from keras import layers"
   ]
  },
  {
   "cell_type": "markdown",
   "metadata": {},
   "source": [
    "__Densely Connected Network: Baseline Model__"
   ]
  },
  {
   "cell_type": "markdown",
   "metadata": {},
   "source": [
    "We are going to try out a number of different models starting with a densely connected network to run as our baseline. In addition, we are going to try CNN's that we have constructed ourselves as well as a number of Transfer Learning methods, specifically VGG16 and ResNet50."
   ]
  },
  {
   "cell_type": "code",
   "execution_count": 14,
   "metadata": {},
   "outputs": [
    {
     "name": "stdout",
     "output_type": "stream",
     "text": [
      "WARNING:tensorflow:From /Users/AlexGaujean/anaconda3/lib/python3.7/site-packages/tensorflow/python/framework/op_def_library.py:263: colocate_with (from tensorflow.python.framework.ops) is deprecated and will be removed in a future version.\n",
      "Instructions for updating:\n",
      "Colocations handled automatically by placer.\n"
     ]
    }
   ],
   "source": [
    "#instantiate our model and add our hidden layers\n",
    "np.random.seed(123)\n",
    "model = models.Sequential()\n",
    "model.add(layers.Dense(15, activation='relu', input_shape=(12288,)))#3 hidden layers\n",
    "model.add(layers.Dense(10, activation='relu'))\n",
    "model.add(layers.Dense(10, activation='relu'))\n",
    "model.add(layers.Dense(10, activation='relu'))\n",
    "model.add(layers.Dense(1, activation='sigmoid'))"
   ]
  },
  {
   "cell_type": "code",
   "execution_count": 15,
   "metadata": {
    "scrolled": true
   },
   "outputs": [
    {
     "name": "stdout",
     "output_type": "stream",
     "text": [
      "WARNING:tensorflow:From /Users/AlexGaujean/anaconda3/lib/python3.7/site-packages/tensorflow/python/ops/math_ops.py:3066: to_int32 (from tensorflow.python.ops.math_ops) is deprecated and will be removed in a future version.\n",
      "Instructions for updating:\n",
      "Use tf.cast instead.\n",
      "Train on 1672 samples, validate on 363 samples\n",
      "Epoch 1/100\n",
      "1672/1672 [==============================] - 3s 2ms/step - loss: 0.6869 - acc: 0.5664 - val_loss: 0.6567 - val_acc: 0.7025\n",
      "Epoch 2/100\n",
      "1672/1672 [==============================] - 0s 156us/step - loss: 0.6806 - acc: 0.5700 - val_loss: 0.6431 - val_acc: 0.7107\n",
      "Epoch 3/100\n",
      "1672/1672 [==============================] - 0s 131us/step - loss: 0.6761 - acc: 0.5688 - val_loss: 0.6392 - val_acc: 0.7052\n",
      "Epoch 4/100\n",
      "1672/1672 [==============================] - 0s 78us/step - loss: 0.6737 - acc: 0.5736 - val_loss: 0.6360 - val_acc: 0.7080\n",
      "Epoch 5/100\n",
      "1672/1672 [==============================] - 0s 114us/step - loss: 0.6717 - acc: 0.5736 - val_loss: 0.6331 - val_acc: 0.7080\n",
      "Epoch 6/100\n",
      "1672/1672 [==============================] - 0s 79us/step - loss: 0.6699 - acc: 0.5778 - val_loss: 0.6331 - val_acc: 0.7107\n",
      "Epoch 7/100\n",
      "1672/1672 [==============================] - 0s 76us/step - loss: 0.6682 - acc: 0.5915 - val_loss: 0.6247 - val_acc: 0.7107\n",
      "Epoch 8/100\n",
      "1672/1672 [==============================] - 0s 91us/step - loss: 0.6667 - acc: 0.5772 - val_loss: 0.6366 - val_acc: 0.7190\n",
      "Epoch 9/100\n",
      "1672/1672 [==============================] - 0s 90us/step - loss: 0.6660 - acc: 0.5981 - val_loss: 0.6110 - val_acc: 0.7107\n",
      "Epoch 10/100\n",
      "1672/1672 [==============================] - 0s 78us/step - loss: 0.6682 - acc: 0.5688 - val_loss: 0.6668 - val_acc: 0.6253\n",
      "Epoch 11/100\n",
      "1672/1672 [==============================] - 0s 78us/step - loss: 0.6752 - acc: 0.5927 - val_loss: 0.5991 - val_acc: 0.7080\n",
      "Epoch 12/100\n",
      "1672/1672 [==============================] - 0s 83us/step - loss: 0.6853 - acc: 0.5502 - val_loss: 0.6485 - val_acc: 0.7135\n",
      "Epoch 13/100\n",
      "1672/1672 [==============================] - 0s 89us/step - loss: 0.6672 - acc: 0.6166 - val_loss: 0.6070 - val_acc: 0.7163\n",
      "Epoch 14/100\n",
      "1672/1672 [==============================] - 0s 87us/step - loss: 0.6684 - acc: 0.5682 - val_loss: 0.6605 - val_acc: 0.6391\n",
      "Epoch 15/100\n",
      "1672/1672 [==============================] - 0s 88us/step - loss: 0.6695 - acc: 0.6089 - val_loss: 0.5994 - val_acc: 0.7135\n",
      "Epoch 16/100\n",
      "1672/1672 [==============================] - 0s 95us/step - loss: 0.6786 - acc: 0.5562 - val_loss: 0.6474 - val_acc: 0.7052\n",
      "Epoch 17/100\n",
      "1672/1672 [==============================] - 0s 83us/step - loss: 0.6637 - acc: 0.6256 - val_loss: 0.6038 - val_acc: 0.7135\n",
      "Epoch 18/100\n",
      "1672/1672 [==============================] - 0s 104us/step - loss: 0.6669 - acc: 0.5676 - val_loss: 0.6567 - val_acc: 0.6529\n",
      "Epoch 19/100\n",
      "1672/1672 [==============================] - 0s 89us/step - loss: 0.6652 - acc: 0.6250 - val_loss: 0.5965 - val_acc: 0.7107\n",
      "Epoch 20/100\n",
      "1672/1672 [==============================] - 0s 94us/step - loss: 0.6766 - acc: 0.5586 - val_loss: 0.6517 - val_acc: 0.6694\n",
      "Epoch 21/100\n",
      "1672/1672 [==============================] - 0s 83us/step - loss: 0.6627 - acc: 0.6376 - val_loss: 0.5988 - val_acc: 0.7135\n",
      "Epoch 22/100\n",
      "1672/1672 [==============================] - 0s 78us/step - loss: 0.6680 - acc: 0.5670 - val_loss: 0.6573 - val_acc: 0.6474\n",
      "Epoch 23/100\n",
      "1672/1672 [==============================] - 0s 79us/step - loss: 0.6634 - acc: 0.6220 - val_loss: 0.5952 - val_acc: 0.7135\n",
      "Epoch 24/100\n",
      "1672/1672 [==============================] - 0s 77us/step - loss: 0.6733 - acc: 0.5628 - val_loss: 0.6502 - val_acc: 0.6804\n",
      "Epoch 25/100\n",
      "1672/1672 [==============================] - 0s 91us/step - loss: 0.6597 - acc: 0.6441 - val_loss: 0.5969 - val_acc: 0.7163\n",
      "Epoch 26/100\n",
      "1672/1672 [==============================] - 0s 96us/step - loss: 0.6647 - acc: 0.5688 - val_loss: 0.6548 - val_acc: 0.6419\n",
      "Epoch 27/100\n",
      "1672/1672 [==============================] - 0s 77us/step - loss: 0.6599 - acc: 0.6328 - val_loss: 0.5926 - val_acc: 0.7163\n",
      "Epoch 28/100\n",
      "1672/1672 [==============================] - 0s 81us/step - loss: 0.6703 - acc: 0.5652 - val_loss: 0.6545 - val_acc: 0.6446\n",
      "Epoch 29/100\n",
      "1672/1672 [==============================] - 0s 77us/step - loss: 0.6593 - acc: 0.6322 - val_loss: 0.5934 - val_acc: 0.7135\n",
      "Epoch 30/100\n",
      "1672/1672 [==============================] - 0s 78us/step - loss: 0.6647 - acc: 0.5706 - val_loss: 0.6561 - val_acc: 0.6391\n",
      "Epoch 31/100\n",
      "1672/1672 [==============================] - 0s 105us/step - loss: 0.6588 - acc: 0.6310 - val_loss: 0.5909 - val_acc: 0.7163\n",
      "Epoch 32/100\n",
      "1672/1672 [==============================] - 0s 81us/step - loss: 0.6670 - acc: 0.5682 - val_loss: 0.6545 - val_acc: 0.6419\n",
      "Epoch 33/100\n",
      "1672/1672 [==============================] - 0s 78us/step - loss: 0.6572 - acc: 0.6322 - val_loss: 0.5905 - val_acc: 0.7163\n",
      "Epoch 34/100\n",
      "1672/1672 [==============================] - 0s 78us/step - loss: 0.6632 - acc: 0.5712 - val_loss: 0.6579 - val_acc: 0.6088\n",
      "Epoch 35/100\n",
      "1672/1672 [==============================] - 0s 95us/step - loss: 0.6577 - acc: 0.6292 - val_loss: 0.5878 - val_acc: 0.7163\n",
      "Epoch 36/100\n",
      "1672/1672 [==============================] - 0s 101us/step - loss: 0.6672 - acc: 0.5688 - val_loss: 0.6529 - val_acc: 0.6364\n",
      "Epoch 37/100\n",
      "1672/1672 [==============================] - 0s 84us/step - loss: 0.6552 - acc: 0.6370 - val_loss: 0.5889 - val_acc: 0.7218\n",
      "Epoch 38/100\n",
      "1672/1672 [==============================] - 0s 76us/step - loss: 0.6592 - acc: 0.5778 - val_loss: 0.6587 - val_acc: 0.6061\n",
      "Epoch 39/100\n",
      "1672/1672 [==============================] - 0s 82us/step - loss: 0.6562 - acc: 0.6238 - val_loss: 0.5859 - val_acc: 0.7190\n",
      "Epoch 40/100\n",
      "1672/1672 [==============================] - 0s 94us/step - loss: 0.6632 - acc: 0.5748 - val_loss: 0.6581 - val_acc: 0.6088\n",
      "Epoch 41/100\n",
      "1672/1672 [==============================] - 0s 95us/step - loss: 0.6554 - acc: 0.6268 - val_loss: 0.5858 - val_acc: 0.7218\n",
      "Epoch 42/100\n",
      "1672/1672 [==============================] - 0s 95us/step - loss: 0.6591 - acc: 0.5778 - val_loss: 0.6597 - val_acc: 0.6061\n",
      "Epoch 43/100\n",
      "1672/1672 [==============================] - 0s 85us/step - loss: 0.6550 - acc: 0.6220 - val_loss: 0.5843 - val_acc: 0.7218\n",
      "Epoch 44/100\n",
      "1672/1672 [==============================] - 0s 97us/step - loss: 0.6598 - acc: 0.5778 - val_loss: 0.6601 - val_acc: 0.6088\n",
      "Epoch 45/100\n",
      "1672/1672 [==============================] - 0s 86us/step - loss: 0.6548 - acc: 0.6208 - val_loss: 0.5842 - val_acc: 0.7218\n",
      "Epoch 46/100\n",
      "1672/1672 [==============================] - 0s 91us/step - loss: 0.6553 - acc: 0.5879 - val_loss: 0.6607 - val_acc: 0.6061\n",
      "Epoch 47/100\n",
      "1672/1672 [==============================] - 0s 83us/step - loss: 0.6539 - acc: 0.6172 - val_loss: 0.5823 - val_acc: 0.7190\n",
      "Epoch 48/100\n",
      "1672/1672 [==============================] - 0s 77us/step - loss: 0.6564 - acc: 0.5843 - val_loss: 0.6592 - val_acc: 0.6116\n",
      "Epoch 49/100\n",
      "1672/1672 [==============================] - 0s 76us/step - loss: 0.6529 - acc: 0.6226 - val_loss: 0.5825 - val_acc: 0.7190\n",
      "Epoch 50/100\n",
      "1672/1672 [==============================] - 0s 76us/step - loss: 0.6516 - acc: 0.5903 - val_loss: 0.6561 - val_acc: 0.6061\n",
      "Epoch 51/100\n",
      "1672/1672 [==============================] - 0s 85us/step - loss: 0.6500 - acc: 0.6256 - val_loss: 0.5810 - val_acc: 0.7163\n",
      "Epoch 52/100\n",
      "1672/1672 [==============================] - 0s 101us/step - loss: 0.6512 - acc: 0.5903 - val_loss: 0.6589 - val_acc: 0.6006\n",
      "Epoch 53/100\n",
      "1672/1672 [==============================] - 0s 90us/step - loss: 0.6505 - acc: 0.6244 - val_loss: 0.5798 - val_acc: 0.7190\n",
      "Epoch 54/100\n",
      "1672/1672 [==============================] - 0s 88us/step - loss: 0.6512 - acc: 0.5921 - val_loss: 0.6595 - val_acc: 0.6088\n",
      "Epoch 55/100\n",
      "1672/1672 [==============================] - 0s 78us/step - loss: 0.6501 - acc: 0.6268 - val_loss: 0.5789 - val_acc: 0.7190\n",
      "Epoch 56/100\n",
      "1672/1672 [==============================] - 0s 111us/step - loss: 0.6506 - acc: 0.5933 - val_loss: 0.6589 - val_acc: 0.6061\n",
      "Epoch 57/100\n",
      "1672/1672 [==============================] - 0s 84us/step - loss: 0.6491 - acc: 0.6262 - val_loss: 0.5785 - val_acc: 0.7190\n",
      "Epoch 58/100\n",
      "1672/1672 [==============================] - 0s 75us/step - loss: 0.6490 - acc: 0.5933 - val_loss: 0.6591 - val_acc: 0.6088\n"
     ]
    },
    {
     "name": "stdout",
     "output_type": "stream",
     "text": [
      "Epoch 59/100\n",
      "1672/1672 [==============================] - 0s 79us/step - loss: 0.6486 - acc: 0.6274 - val_loss: 0.5780 - val_acc: 0.7218\n",
      "Epoch 60/100\n",
      "1672/1672 [==============================] - 0s 80us/step - loss: 0.6472 - acc: 0.5945 - val_loss: 0.6571 - val_acc: 0.6088\n",
      "Epoch 61/100\n",
      "1672/1672 [==============================] - 0s 79us/step - loss: 0.6467 - acc: 0.6274 - val_loss: 0.5775 - val_acc: 0.7190\n",
      "Epoch 62/100\n",
      "1672/1672 [==============================] - 0s 77us/step - loss: 0.6450 - acc: 0.5993 - val_loss: 0.6565 - val_acc: 0.6088\n",
      "Epoch 63/100\n",
      "1672/1672 [==============================] - 0s 76us/step - loss: 0.6456 - acc: 0.6322 - val_loss: 0.5763 - val_acc: 0.7190\n",
      "Epoch 64/100\n",
      "1672/1672 [==============================] - 0s 78us/step - loss: 0.6448 - acc: 0.5987 - val_loss: 0.6559 - val_acc: 0.6143\n",
      "Epoch 65/100\n",
      "1672/1672 [==============================] - 0s 85us/step - loss: 0.6446 - acc: 0.6334 - val_loss: 0.5756 - val_acc: 0.7190\n",
      "Epoch 66/100\n",
      "1672/1672 [==============================] - 0s 99us/step - loss: 0.6434 - acc: 0.6017 - val_loss: 0.6556 - val_acc: 0.6116\n",
      "Epoch 67/100\n",
      "1672/1672 [==============================] - 0s 78us/step - loss: 0.6438 - acc: 0.6334 - val_loss: 0.5750 - val_acc: 0.7190\n",
      "Epoch 68/100\n",
      "1672/1672 [==============================] - 0s 79us/step - loss: 0.6426 - acc: 0.6029 - val_loss: 0.6551 - val_acc: 0.6171\n",
      "Epoch 69/100\n",
      "1672/1672 [==============================] - 0s 76us/step - loss: 0.6426 - acc: 0.6364 - val_loss: 0.5748 - val_acc: 0.7135\n",
      "Epoch 70/100\n",
      "1672/1672 [==============================] - 0s 107us/step - loss: 0.6395 - acc: 0.6065 - val_loss: 0.6515 - val_acc: 0.6226\n",
      "Epoch 71/100\n",
      "1672/1672 [==============================] - 0s 76us/step - loss: 0.6403 - acc: 0.6388 - val_loss: 0.5741 - val_acc: 0.7135\n",
      "Epoch 72/100\n",
      "1672/1672 [==============================] - 0s 76us/step - loss: 0.6386 - acc: 0.6077 - val_loss: 0.6514 - val_acc: 0.6088\n",
      "Epoch 73/100\n",
      "1672/1672 [==============================] - 0s 75us/step - loss: 0.6393 - acc: 0.6382 - val_loss: 0.5734 - val_acc: 0.7163\n",
      "Epoch 74/100\n",
      "1672/1672 [==============================] - 0s 74us/step - loss: 0.6373 - acc: 0.6124 - val_loss: 0.6517 - val_acc: 0.6198\n",
      "Epoch 75/100\n",
      "1672/1672 [==============================] - 0s 76us/step - loss: 0.6388 - acc: 0.6358 - val_loss: 0.5722 - val_acc: 0.7135\n",
      "Epoch 76/100\n",
      "1672/1672 [==============================] - 0s 77us/step - loss: 0.6381 - acc: 0.6089 - val_loss: 0.6538 - val_acc: 0.6143\n",
      "Epoch 77/100\n",
      "1672/1672 [==============================] - 0s 116us/step - loss: 0.6390 - acc: 0.6364 - val_loss: 0.5715 - val_acc: 0.7163\n",
      "Epoch 78/100\n",
      "1672/1672 [==============================] - 0s 76us/step - loss: 0.6373 - acc: 0.6100 - val_loss: 0.6509 - val_acc: 0.6198\n",
      "Epoch 79/100\n",
      "1672/1672 [==============================] - 0s 74us/step - loss: 0.6373 - acc: 0.6394 - val_loss: 0.5723 - val_acc: 0.7273\n",
      "Epoch 80/100\n",
      "1672/1672 [==============================] - 0s 74us/step - loss: 0.6336 - acc: 0.6196 - val_loss: 0.6476 - val_acc: 0.6226\n",
      "Epoch 81/100\n",
      "1672/1672 [==============================] - 0s 79us/step - loss: 0.6347 - acc: 0.6411 - val_loss: 0.5706 - val_acc: 0.7245\n",
      "Epoch 82/100\n",
      "1672/1672 [==============================] - 0s 109us/step - loss: 0.6340 - acc: 0.6190 - val_loss: 0.6509 - val_acc: 0.6198\n",
      "Epoch 83/100\n",
      "1672/1672 [==============================] - 0s 117us/step - loss: 0.6355 - acc: 0.6352 - val_loss: 0.5695 - val_acc: 0.7218\n",
      "Epoch 84/100\n",
      "1672/1672 [==============================] - 0s 77us/step - loss: 0.6356 - acc: 0.6118 - val_loss: 0.6521 - val_acc: 0.6143\n",
      "Epoch 85/100\n",
      "1672/1672 [==============================] - 0s 79us/step - loss: 0.6355 - acc: 0.6364 - val_loss: 0.5697 - val_acc: 0.7273\n",
      "Epoch 86/100\n",
      "1672/1672 [==============================] - 0s 75us/step - loss: 0.6326 - acc: 0.6226 - val_loss: 0.6463 - val_acc: 0.6226\n",
      "Epoch 87/100\n",
      "1672/1672 [==============================] - 0s 77us/step - loss: 0.6323 - acc: 0.6453 - val_loss: 0.5696 - val_acc: 0.7300\n",
      "Epoch 88/100\n",
      "1672/1672 [==============================] - 0s 75us/step - loss: 0.6306 - acc: 0.6256 - val_loss: 0.6461 - val_acc: 0.6226\n",
      "Epoch 89/100\n",
      "1672/1672 [==============================] - 0s 78us/step - loss: 0.6313 - acc: 0.6423 - val_loss: 0.5687 - val_acc: 0.7273\n",
      "Epoch 90/100\n",
      "1672/1672 [==============================] - 0s 78us/step - loss: 0.6309 - acc: 0.6268 - val_loss: 0.6466 - val_acc: 0.6198\n",
      "Epoch 91/100\n",
      "1672/1672 [==============================] - 0s 80us/step - loss: 0.6309 - acc: 0.6447 - val_loss: 0.5687 - val_acc: 0.7273\n",
      "Epoch 92/100\n",
      "1672/1672 [==============================] - 0s 77us/step - loss: 0.6289 - acc: 0.6268 - val_loss: 0.6441 - val_acc: 0.6336\n",
      "Epoch 93/100\n",
      "1672/1672 [==============================] - 0s 75us/step - loss: 0.6291 - acc: 0.6471 - val_loss: 0.5682 - val_acc: 0.7273\n",
      "Epoch 94/100\n",
      "1672/1672 [==============================] - 0s 78us/step - loss: 0.6278 - acc: 0.6286 - val_loss: 0.6437 - val_acc: 0.6336\n",
      "Epoch 95/100\n",
      "1672/1672 [==============================] - 0s 102us/step - loss: 0.6282 - acc: 0.6477 - val_loss: 0.5672 - val_acc: 0.7245\n",
      "Epoch 96/100\n",
      "1672/1672 [==============================] - 0s 84us/step - loss: 0.6285 - acc: 0.6268 - val_loss: 0.6455 - val_acc: 0.6281\n",
      "Epoch 97/100\n",
      "1672/1672 [==============================] - 0s 87us/step - loss: 0.6284 - acc: 0.6477 - val_loss: 0.5667 - val_acc: 0.7245\n",
      "Epoch 98/100\n",
      "1672/1672 [==============================] - 0s 72us/step - loss: 0.6276 - acc: 0.6286 - val_loss: 0.6454 - val_acc: 0.6253\n",
      "Epoch 99/100\n",
      "1672/1672 [==============================] - 0s 73us/step - loss: 0.6277 - acc: 0.6495 - val_loss: 0.5666 - val_acc: 0.7273\n",
      "Epoch 100/100\n",
      "1672/1672 [==============================] - 0s 108us/step - loss: 0.6260 - acc: 0.6310 - val_loss: 0.6460 - val_acc: 0.6253\n"
     ]
    }
   ],
   "source": [
    "#compile our model and fit it to our training data\n",
    "model.compile(optimizer='sgd',\n",
    "              loss='binary_crossentropy',\n",
    "              metrics=['accuracy'])\n",
    "\n",
    "history1 = model.fit(train_img,\n",
    "                    train_y,\n",
    "                    epochs=100,\n",
    "                    batch_size=1672,\n",
    "                    validation_data=(val_img, val_y))"
   ]
  },
  {
   "cell_type": "code",
   "execution_count": 16,
   "metadata": {
    "scrolled": true
   },
   "outputs": [
    {
     "name": "stdout",
     "output_type": "stream",
     "text": [
      "1672/1672 [==============================] - 0s 93us/step\n"
     ]
    }
   ],
   "source": [
    "#examine our evaluation metrics for how our model on the training set\n",
    "results_train = model.evaluate(train_img, train_y)"
   ]
  },
  {
   "cell_type": "code",
   "execution_count": 17,
   "metadata": {},
   "outputs": [
    {
     "name": "stdout",
     "output_type": "stream",
     "text": [
      "390/390 [==============================] - 0s 286us/step\n"
     ]
    }
   ],
   "source": [
    "#examine our evaluation metrics for how our model performed on the test set \n",
    "results_test = model.evaluate(test_img, test_y)"
   ]
  },
  {
   "cell_type": "code",
   "execution_count": 18,
   "metadata": {
    "scrolled": true
   },
   "outputs": [
    {
     "data": {
      "text/plain": [
       "[0.6271645007521341, 0.6501196172248804]"
      ]
     },
     "execution_count": 18,
     "metadata": {},
     "output_type": "execute_result"
    }
   ],
   "source": [
    "# print the [loss, and accuracy] of our training data\n",
    "results_train"
   ]
  },
  {
   "cell_type": "code",
   "execution_count": 19,
   "metadata": {},
   "outputs": [
    {
     "data": {
      "text/plain": [
       "[0.6459931181027339, 0.5974358971302326]"
      ]
     },
     "execution_count": 19,
     "metadata": {},
     "output_type": "execute_result"
    }
   ],
   "source": [
    "#print the [loss and accuracy] of our test data\n",
    "results_test"
   ]
  },
  {
   "cell_type": "markdown",
   "metadata": {},
   "source": [
    "__ConvNet: Initial Model__"
   ]
  },
  {
   "cell_type": "code",
   "execution_count": 20,
   "metadata": {},
   "outputs": [],
   "source": [
    "#import earlystopping from keras and set a variable called earlystopping that ends our run model if our validation loss doesnt increase by a certain amount in a number of epochs\n",
    "from keras.callbacks import EarlyStopping\n",
    "\n",
    "early_stopping = EarlyStopping(monitor = 'val_loss', patience = 7) "
   ]
  },
  {
   "cell_type": "code",
   "execution_count": 21,
   "metadata": {},
   "outputs": [
    {
     "name": "stdout",
     "output_type": "stream",
     "text": [
      "Found 1673 images belonging to 2 classes.\n",
      "Found 390 images belonging to 2 classes.\n",
      "Found 363 images belonging to 2 classes.\n"
     ]
    }
   ],
   "source": [
    "# get all the data in the directory split/test (271 images), and reshape them\n",
    "# get all the data in the directory split/train (2477 images), and reshape them\n",
    "train_generator = ImageDataGenerator(rescale=1./255).flow_from_directory(\n",
    "        train_dir, \n",
    "        target_size=(64, 64), batch_size= batch_size_train)\n",
    "\n",
    "\n",
    "test_generator = ImageDataGenerator(rescale=1./255).flow_from_directory(\n",
    "        test_dir, \n",
    "        target_size=(64, 64), batch_size = batch_size_test)   \n",
    "\n",
    "# get all the data in the directory split/validation (257 images), and reshape them\n",
    "val_generator = ImageDataGenerator(rescale=1./255).flow_from_directory(\n",
    "        val_dir, \n",
    "        target_size=(64, 64), batch_size = batch_size_val) "
   ]
  },
  {
   "cell_type": "code",
   "execution_count": 22,
   "metadata": {},
   "outputs": [],
   "source": [
    "#instantiate our cnn_model with conv layers and maxpooling and a flatten layer as our last hidden layer \n",
    "model = models.Sequential()\n",
    "model.add(layers.Conv2D(32, (3, 3), activation='relu',\n",
    "                        input_shape = (64, 64, 3)))\n",
    "model.add(layers.MaxPooling2D((2, 2)))\n",
    "\n",
    "model.add(layers.Conv2D(32, (4, 4), activation='relu'))\n",
    "model.add(layers.MaxPooling2D((2, 2)))\n",
    "\n",
    "model.add(layers.Conv2D(64, (3, 3), activation='relu'))\n",
    "model.add(layers.MaxPooling2D((2, 2)))\n",
    "\n",
    "model.add(layers.Flatten())\n",
    "model.add(layers.Dense(64, activation='relu'))\n",
    "model.add(layers.Dense(1, activation='sigmoid'))\n",
    "\n",
    "model.compile(loss='binary_crossentropy',\n",
    "              optimizer=\"sgd\",\n",
    "              metrics=['acc'])"
   ]
  },
  {
   "cell_type": "code",
   "execution_count": 23,
   "metadata": {
    "scrolled": true
   },
   "outputs": [
    {
     "name": "stdout",
     "output_type": "stream",
     "text": [
      "Train on 1672 samples, validate on 363 samples\n",
      "Epoch 1/75\n",
      "1672/1672 [==============================] - 10s 6ms/step - loss: 0.6873 - acc: 0.5580 - val_loss: 0.6418 - val_acc: 0.7080\n",
      "Epoch 2/75\n",
      "1672/1672 [==============================] - 8s 5ms/step - loss: 0.6781 - acc: 0.5843 - val_loss: 0.6324 - val_acc: 0.7107\n",
      "Epoch 3/75\n",
      "1672/1672 [==============================] - 8s 5ms/step - loss: 0.6695 - acc: 0.5993 - val_loss: 0.7973 - val_acc: 0.2920\n",
      "Epoch 4/75\n",
      "1672/1672 [==============================] - 8s 5ms/step - loss: 0.6616 - acc: 0.6142 - val_loss: 0.8615 - val_acc: 0.2920\n",
      "Epoch 5/75\n",
      "1672/1672 [==============================] - 8s 5ms/step - loss: 0.6570 - acc: 0.6489 - val_loss: 0.6489 - val_acc: 0.6887\n",
      "Epoch 6/75\n",
      "1672/1672 [==============================] - 8s 5ms/step - loss: 0.6464 - acc: 0.6501 - val_loss: 0.5713 - val_acc: 0.7107\n",
      "Epoch 7/75\n",
      "1672/1672 [==============================] - 8s 5ms/step - loss: 0.6246 - acc: 0.6651 - val_loss: 0.7576 - val_acc: 0.3802\n",
      "Epoch 8/75\n",
      "1672/1672 [==============================] - 8s 5ms/step - loss: 0.6272 - acc: 0.6543 - val_loss: 0.5390 - val_acc: 0.7631\n",
      "Epoch 9/75\n",
      "1672/1672 [==============================] - 8s 5ms/step - loss: 0.6179 - acc: 0.6591 - val_loss: 0.5981 - val_acc: 0.7107\n",
      "Epoch 10/75\n",
      "1672/1672 [==============================] - 8s 5ms/step - loss: 0.5944 - acc: 0.7033 - val_loss: 0.5225 - val_acc: 0.7713\n",
      "Epoch 11/75\n",
      "1672/1672 [==============================] - 8s 5ms/step - loss: 0.5956 - acc: 0.6818 - val_loss: 0.5971 - val_acc: 0.7052\n",
      "Epoch 12/75\n",
      "1672/1672 [==============================] - 8s 5ms/step - loss: 0.5907 - acc: 0.7004 - val_loss: 0.5283 - val_acc: 0.7713\n",
      "Epoch 13/75\n",
      "1672/1672 [==============================] - 8s 5ms/step - loss: 0.5730 - acc: 0.7010 - val_loss: 0.6574 - val_acc: 0.6226\n",
      "Epoch 14/75\n",
      "1672/1672 [==============================] - 8s 5ms/step - loss: 0.5544 - acc: 0.7297 - val_loss: 0.4977 - val_acc: 0.7851\n",
      "Epoch 15/75\n",
      "1672/1672 [==============================] - 8s 5ms/step - loss: 0.5631 - acc: 0.7129 - val_loss: 0.5144 - val_acc: 0.7631\n",
      "Epoch 16/75\n",
      "1672/1672 [==============================] - 8s 5ms/step - loss: 0.5540 - acc: 0.7189 - val_loss: 0.5487 - val_acc: 0.7410\n",
      "Epoch 17/75\n",
      "1672/1672 [==============================] - 8s 5ms/step - loss: 0.5527 - acc: 0.7225 - val_loss: 0.6591 - val_acc: 0.6309\n",
      "Epoch 18/75\n",
      "1672/1672 [==============================] - 8s 5ms/step - loss: 0.5553 - acc: 0.7207 - val_loss: 0.5561 - val_acc: 0.7163\n",
      "Epoch 19/75\n",
      "1672/1672 [==============================] - 8s 5ms/step - loss: 0.5360 - acc: 0.7380 - val_loss: 0.6402 - val_acc: 0.6419\n",
      "Epoch 20/75\n",
      "1672/1672 [==============================] - 8s 5ms/step - loss: 0.5428 - acc: 0.7428 - val_loss: 0.5496 - val_acc: 0.7300\n",
      "Epoch 21/75\n",
      "1672/1672 [==============================] - 8s 5ms/step - loss: 0.5324 - acc: 0.7512 - val_loss: 0.4755 - val_acc: 0.7961\n",
      "Epoch 22/75\n",
      "1672/1672 [==============================] - 8s 5ms/step - loss: 0.5253 - acc: 0.7482 - val_loss: 0.4864 - val_acc: 0.7934\n",
      "Epoch 23/75\n",
      "1672/1672 [==============================] - 8s 5ms/step - loss: 0.5307 - acc: 0.7404 - val_loss: 0.8141 - val_acc: 0.5207\n",
      "Epoch 24/75\n",
      "1672/1672 [==============================] - 8s 5ms/step - loss: 0.5141 - acc: 0.7500 - val_loss: 0.5198 - val_acc: 0.7383\n",
      "Epoch 25/75\n",
      "1672/1672 [==============================] - 8s 5ms/step - loss: 0.5176 - acc: 0.7500 - val_loss: 0.5351 - val_acc: 0.7383\n",
      "Epoch 26/75\n",
      "1672/1672 [==============================] - 8s 5ms/step - loss: 0.5193 - acc: 0.7404 - val_loss: 0.4685 - val_acc: 0.7934\n",
      "Epoch 27/75\n",
      "1672/1672 [==============================] - 8s 5ms/step - loss: 0.5024 - acc: 0.7644 - val_loss: 0.5017 - val_acc: 0.7603\n",
      "Epoch 28/75\n",
      "1672/1672 [==============================] - 8s 5ms/step - loss: 0.4959 - acc: 0.7644 - val_loss: 0.4709 - val_acc: 0.8072\n",
      "Epoch 29/75\n",
      "1672/1672 [==============================] - 8s 5ms/step - loss: 0.4923 - acc: 0.7715 - val_loss: 0.6945 - val_acc: 0.6281\n",
      "Epoch 30/75\n",
      "1672/1672 [==============================] - 8s 5ms/step - loss: 0.5031 - acc: 0.7494 - val_loss: 0.4996 - val_acc: 0.7521\n",
      "Epoch 31/75\n",
      "1672/1672 [==============================] - 8s 5ms/step - loss: 0.4948 - acc: 0.7626 - val_loss: 0.5797 - val_acc: 0.7273\n",
      "Epoch 32/75\n",
      "1672/1672 [==============================] - 8s 5ms/step - loss: 0.4966 - acc: 0.7673 - val_loss: 0.6270 - val_acc: 0.6667\n",
      "Epoch 33/75\n",
      "1672/1672 [==============================] - 8s 5ms/step - loss: 0.4858 - acc: 0.7733 - val_loss: 0.6658 - val_acc: 0.6446\n"
     ]
    }
   ],
   "source": [
    "#fit our cnn to the training set \n",
    "history = model.fit(train_images,\n",
    "                    train_y,\n",
    "                    epochs=75,\n",
    "                    batch_size=32,\n",
    "                    validation_data=(val_images, val_y), callbacks = [early_stopping]) "
   ]
  },
  {
   "cell_type": "code",
   "execution_count": 24,
   "metadata": {},
   "outputs": [
    {
     "name": "stdout",
     "output_type": "stream",
     "text": [
      "Saved model to drive\n"
     ]
    }
   ],
   "source": [
    "#save my model to drive only need to do this once\n",
    "model_json = model.to_json()\n",
    "with open(\"model_cnn_one.json\", \"w\") as json_file:\n",
    "    json_file.write(model_json)\n",
    "# serialize weights to HDF5\n",
    "model.save_weights(\"model_cnn_one.h5\")\n",
    "print(\"Saved model to drive\")"
   ]
  },
  {
   "cell_type": "markdown",
   "metadata": {},
   "source": [
    "__Evaluating Initial CNN Model__\n",
    "\n",
    "\n",
    "Not sure if our model is actually able to determine clean or dirty rooms or if there is just a common feature or patern outside of the desired image content for our training set data that results in our model overfitting. So want to check how it is performing on each one of our datasets where our validation and test sets for our dirty images have been sorted, filtered and made to look exactly like our clean image photos. "
   ]
  },
  {
   "cell_type": "code",
   "execution_count": 25,
   "metadata": {},
   "outputs": [
    {
     "name": "stdout",
     "output_type": "stream",
     "text": [
      "390/390 [==============================] - 1s 3ms/step\n",
      "1672/1672 [==============================] - 4s 2ms/step\n",
      "363/363 [==============================] - 1s 2ms/step\n"
     ]
    }
   ],
   "source": [
    "#examine our evaluation metrics for how our model performed on the test set \n",
    "results_one_test = model.evaluate(test_images, test_y)\n",
    "\n",
    "#and our training data\n",
    "results_one_train = model.evaluate(train_images, train_y)\n",
    "\n",
    "#do the same for our validation images and targets\n",
    "results_one_validate = model.evaluate(val_images, val_y)"
   ]
  },
  {
   "cell_type": "code",
   "execution_count": 26,
   "metadata": {},
   "outputs": [],
   "source": [
    "# print the [loss, and accuracy] of our training data\n",
    "model_one_acc_train = results_one_train"
   ]
  },
  {
   "cell_type": "code",
   "execution_count": 28,
   "metadata": {},
   "outputs": [],
   "source": [
    "# check the results for our validation set \n",
    "model_one_acc_val = results_one_validate"
   ]
  },
  {
   "cell_type": "code",
   "execution_count": 29,
   "metadata": {},
   "outputs": [],
   "source": [
    "#print the [loss and accuracy] of our test data\n",
    "model_one_acc_test = results_one_test"
   ]
  },
  {
   "cell_type": "markdown",
   "metadata": {},
   "source": [
    "__Save our Model Weights and Probabilities__"
   ]
  },
  {
   "cell_type": "markdown",
   "metadata": {},
   "source": [
    "In addition to using our model to predict a clean and dirty room we also thought it would be useful to have our final output layer use a softmax function instead of a sigmoid function so each image could return us a predicted probability, which we can then use as a \"cleanliness\" metric. Using keras' predict_proba method we can examine if this might be worth our time. "
   ]
  },
  {
   "cell_type": "code",
   "execution_count": 30,
   "metadata": {},
   "outputs": [],
   "source": [
    "#going to try and use this model to output a predictive value \n",
    "model_proba_train = model.predict_proba(train_images)\n",
    "\n",
    "#examining the probability as a metric for how dirty or clean a room will be \n",
    "model_proba_test = model.predict_proba(test_images)"
   ]
  },
  {
   "cell_type": "code",
   "execution_count": 44,
   "metadata": {},
   "outputs": [
    {
     "data": {
      "text/plain": [
       "array([[0.05072623],\n",
       "       [0.14476797],\n",
       "       [0.5585816 ],\n",
       "       [0.41537106],\n",
       "       [0.16759878],\n",
       "       [0.08846781],\n",
       "       [0.5759965 ],\n",
       "       [0.17328486],\n",
       "       [0.6138184 ],\n",
       "       [0.76122534]], dtype=float32)"
      ]
     },
     "execution_count": 44,
     "metadata": {},
     "output_type": "execute_result"
    }
   ],
   "source": [
    "#examine our probabilities that are being fed into the output layer and then converted to a 0 or 1 using the sigmoid function\n",
    "model_proba_test[10:20]"
   ]
  },
  {
   "cell_type": "code",
   "execution_count": 46,
   "metadata": {},
   "outputs": [
    {
     "data": {
      "image/png": "[encoded data removed]",
      "text/plain": [
       "<PIL.Image.Image image mode=RGB size=64x64 at 0x1A450A0E48>"
      ]
     },
     "execution_count": 46,
     "metadata": {},
     "output_type": "execute_result"
    }
   ],
   "source": [
    "array_to_img(test_images[19])"
   ]
  },
  {
   "cell_type": "markdown",
   "metadata": {},
   "source": [
    "__VGG16 Model: Transfer Learning__"
   ]
  },
  {
   "cell_type": "markdown",
   "metadata": {},
   "source": [
    "Imported VGG16 as our base model with weights set to \"imagenet\" and used transfer learning techniques to construct a network with 16 pretrained layers. We then added and number of our own dense and dropout layers that performed well for our initial CNN model. Our output layer we left as a sigmoid activation using binary crossentropy to calculate our loss. "
   ]
  },
  {
   "cell_type": "code",
   "execution_count": 41,
   "metadata": {},
   "outputs": [],
   "source": [
    "#import necessary model for transfer learning\n",
    "from keras.applications import VGG16\n",
    "from keras.layers import Dense, Dropout\n",
    "#instantiate our base_model with VGG16 after removing an output layer and altering the input shape\n",
    "base_model = VGG16(include_top = False, weights = 'imagenet', input_shape = (64,64,3))"
   ]
  },
  {
   "cell_type": "code",
   "execution_count": 42,
   "metadata": {},
   "outputs": [
    {
     "name": "stdout",
     "output_type": "stream",
     "text": [
      "WARNING:tensorflow:From /Users/AlexGaujean/anaconda3/lib/python3.7/site-packages/keras/backend/tensorflow_backend.py:3445: calling dropout (from tensorflow.python.ops.nn_ops) with keep_prob is deprecated and will be removed in a future version.\n",
      "Instructions for updating:\n",
      "Please use `rate` instead of `keep_prob`. Rate should be set to `rate = 1 - keep_prob`.\n"
     ]
    }
   ],
   "source": [
    "# instantiate our new model and add a layer to the pretrained base_model\n",
    "model = models.Sequential()\n",
    "model.add(base_model) \n",
    "model.add(Dense(512, activation ='relu')) #, data_format = 'channels_last')\n",
    "model.add(Dropout(0.4)) \n",
    "model.add(Dense(64, activation ='relu'))\n",
    "model.add(layers.Flatten())\n",
    "model.add(layers.Dense(64))\n",
    "model.add(layers.Dense(1, activation='sigmoid'))"
   ]
  },
  {
   "cell_type": "code",
   "execution_count": 43,
   "metadata": {},
   "outputs": [],
   "source": [
    "#compile our model using binary_crossentropy as the loss parameter\n",
    "model.compile(loss ='binary_crossentropy',\n",
    "              optimizer=\"sgd\",\n",
    "              metrics=['acc'])"
   ]
  },
  {
   "cell_type": "code",
   "execution_count": 47,
   "metadata": {},
   "outputs": [],
   "source": [
    "#make sure that we do not retrain the first 16 pretrained layers of our model and only train the following layers\n",
    "for layer in model.layers[:16]:\n",
    "    layer.trainable = False\n",
    "for layer in model.layers[16:]:\n",
    "    layer.trainable = True"
   ]
  },
  {
   "cell_type": "code",
   "execution_count": null,
   "metadata": {},
   "outputs": [
    {
     "name": "stderr",
     "output_type": "stream",
     "text": [
      "/Users/AlexGaujean/anaconda3/lib/python3.7/site-packages/keras/engine/training.py:490: UserWarning: Discrepancy between trainable weights and collected trainable weights, did you set `model.trainable` without calling `model.compile` after ?\n",
      "  'Discrepancy between trainable weights and collected trainable'\n"
     ]
    },
    {
     "name": "stdout",
     "output_type": "stream",
     "text": [
      "Train on 1679 samples, validate on 366 samples\n",
      "Epoch 1/75\n",
      " 320/1679 [====>.........................] - ETA: 3:07 - loss: 0.6858 - acc: 0.6031"
     ]
    }
   ],
   "source": [
    "#fit our train images and train labels to our ResNet transfer learning model\n",
    "history_3 = model.fit(train_images,\n",
    "                    train_y,\n",
    "                    epochs=75,\n",
    "                    batch_size=32,\n",
    "                    validation_data=(val_images, val_y), callbacks = [early_stopping])"
   ]
  },
  {
   "cell_type": "code",
   "execution_count": null,
   "metadata": {},
   "outputs": [],
   "source": [
    "#save our weights and model to our folder\n",
    "model_json = model.to_json()\n",
    "with open(\"model.json\", \"w\") as json_file:\n",
    "  json_file.write(model_json)\n",
    "# serialize weights to HDF5\n",
    "model.save_weights(\"model_weights_vgg.h5\")\n",
    "print(\"Saved model to drive\")"
   ]
  },
  {
   "cell_type": "code",
   "execution_count": null,
   "metadata": {},
   "outputs": [],
   "source": [
    "#examine our evaluation metrics for how our model performed on the test set \n",
    "results_vgg_test = model.evaluate(test_images, test_y)\n",
    "\n",
    "#and our training data\n",
    "results_vgg_train = model.evaluate(train_images, train_y)\n",
    "\n",
    "#do the same for our validation images and targets\n",
    "results_vgg_validate = model.evaluate(val_images, val_y)\n",
    "\n",
    "## print the [loss, and accuracy] of our training data\n",
    "model_vgg_acc_train = results_train\n",
    "\n",
    "# check the results for our validation set \n",
    "model_vgg_acc_val = results_validate\n",
    "\n",
    "#print the [loss and accuracy] of our test data\n",
    "model_vgg_acc_test = results_test"
   ]
  },
  {
   "cell_type": "code",
   "execution_count": null,
   "metadata": {},
   "outputs": [],
   "source": [
    "#locally save our weights and model to our folder\n",
    "model_vgg_json = model.to_json()\n",
    "model_vgg_weights = model.get_weights()\n",
    "model_vgg_inputs = model.inputs\n",
    "model_vgg_outputs = model.outputs"
   ]
  },
  {
   "cell_type": "code",
   "execution_count": null,
   "metadata": {},
   "outputs": [],
   "source": [
    "#evaluate our model using keras.summary() method\n",
    "model.summary()"
   ]
  },
  {
   "cell_type": "markdown",
   "metadata": {},
   "source": [
    "__Resnet Model: Transfer Learning 2__"
   ]
  },
  {
   "cell_type": "code",
   "execution_count": 49,
   "metadata": {},
   "outputs": [],
   "source": [
    "#import necessary libraries for ResNet\n",
    "from keras.applications.resnet50 import ResNet50\n",
    "from keras.layers import GlobalAveragePooling2D\n",
    "from keras.preprocessing import "
   ]
  },
  {
   "cell_type": "code",
   "execution_count": 55,
   "metadata": {},
   "outputs": [],
   "source": [
    "#import necessary libraries for ResNet\n",
    "from keras.applications.resnet50 import ResNet50\n",
    "from keras.layers import GlobalAveragePooling2D, MaxPooling2D\n",
    "\n",
    "\n",
    "\n",
    "#instantiate a base_model with our ResNet layer\n",
    "base_model = ResNet50(weights='imagenet', include_top = False)\n",
    "\n",
    "\n",
    "\n",
    "#setup our model with the ResNet as the base and add a few more hidden layers\n",
    "model = models.Sequential()\n",
    "\n",
    "model.add(base_model) \n",
    "\n",
    "model.add(GlobalAveragePooling2D())\n",
    "\n",
    "model.add(Dense(1024,  activation='relu')) \n",
    "model.add(Dropout(0.5)) \n",
    "\n",
    "model.add(Dense(64, activation = 'relu'))\n",
    "model.add(Dropout(0.5))\n",
    "\n",
    "model.add(Dense(64, activation = 'relu'))\n",
    "\n",
    "\n",
    "model.add(layers.Dense(1, activation='sigmoid'))\n",
    "\n",
    "\n",
    "#compile our model using binary_crossentropy as the loss parameter\n",
    "model.compile(loss='binary_crossentropy',\n",
    "              optimizer=\"sgd\",\n",
    "              metrics=['acc'])\n",
    "\n",
    "\n",
    "\n",
    "#make sure that we do not retrain the first 50 pretrained layers of our model\n",
    "for layer in model.layers[:50]:\n",
    "    layer.trainable = False\n",
    "for layer in model.layers[50:]:\n",
    "    layer.trainable = True\n",
    "\n",
    "    \n",
    "#fit our training images and training labels to our model\n",
    "history_3 = model.fit(train_images,\n",
    "                    train_y,\n",
    "                    epochs=75,\n",
    "                    batch_size=32,\n",
    "                    validation_data=(val_images, val_y), callbacks = [early_stopping])"
   ]
  },
  {
   "cell_type": "code",
   "execution_count": null,
   "metadata": {},
   "outputs": [],
   "source": [
    "#examine our evaluation metrics for how our model performed on the test set \n",
    "results_res_test = model.evaluate(test_images, test_y)\n",
    "\n",
    "#and our training data\n",
    "results_res_train = model.evaluate(train_images, train_y)\n",
    "\n",
    "#do the same for our validation images and targets\n",
    "results_res_validate = model.evaluate(val_images, val_y)\n",
    "\n",
    "## print the [loss, and accuracy] of our training data\n",
    "model_res_acc_train = results_train\n",
    "\n",
    "# check the results for our validation set \n",
    "model_res_acc_val = results_validate\n",
    "\n",
    "#print the [loss and accuracy] of our test data\n",
    "model_res_acc_test = results_test"
   ]
  },
  {
   "cell_type": "code",
   "execution_count": null,
   "metadata": {},
   "outputs": [],
   "source": [
    "#locally save our weights and model\n",
    "model_res_json = model.to_json()\n",
    "model_res_weights = model.get_weights()\n",
    "model_res_inputs = model.inputs\n",
    "model_res_outputs = model.outputs"
   ]
  },
  {
   "cell_type": "markdown",
   "metadata": {},
   "source": [
    "# Visualizing our Layers"
   ]
  },
  {
   "cell_type": "markdown",
   "metadata": {},
   "source": [
    "The goal here is to visualize our images within the intermediate layers for our model"
   ]
  },
  {
   "cell_type": "code",
   "execution_count": 87,
   "metadata": {},
   "outputs": [],
   "source": [
    "#import necessary libraries \n",
    "from keras import models\n",
    "from keras.layers import Dense, Dropout"
   ]
  },
  {
   "cell_type": "code",
   "execution_count": null,
   "metadata": {},
   "outputs": [],
   "source": [
    "# use our locally saved variable of our model outputs [list of tensors] to select an image tensor\n",
    "img_tensor = model_res_outputs[150]\n",
    "\n",
    "# Extract model layer outputs\n",
    "layer_outputs = [layer.output for layer in model.layers[:8]]\n",
    "\n",
    "# Rather then a model with a single output, we are going to make a model to display the feature maps\n",
    "activation_model = models.Model(inputs=model.input, outputs=layer_outputs)\n",
    "activations = activation_model.predict(img_tensor)"
   ]
  },
  {
   "cell_type": "code",
   "execution_count": 122,
   "metadata": {
    "collapsed": true
   },
   "outputs": [
    {
     "ename": "NameError",
     "evalue": "name 'model_vgg_outputs' is not defined",
     "output_type": "error",
     "traceback": [
      "\u001b[0;31m---------------------------------------------------------------------------\u001b[0m",
      "\u001b[0;31mNameError\u001b[0m                                 Traceback (most recent call last)",
      "\u001b[0;32m<ipython-input-122-d6430065f5d4>\u001b[0m in \u001b[0;36m<module>\u001b[0;34m\u001b[0m\n\u001b[0;32m----> 1\u001b[0;31m \u001b[0mimg_tensor\u001b[0m \u001b[0;34m=\u001b[0m \u001b[0mmodel_vgg_outputs\u001b[0m\u001b[0;34m[\u001b[0m\u001b[0;36m150\u001b[0m\u001b[0;34m]\u001b[0m\u001b[0;34m\u001b[0m\u001b[0;34m\u001b[0m\u001b[0m\n\u001b[0m",
      "\u001b[0;31mNameError\u001b[0m: name 'model_vgg_outputs' is not defined"
     ]
    }
   ],
   "source": [
    "#use our locally saved variable of our model outputs [list of tensors] to select an image tensor\n",
    "img_tensor = model_vgg_outputs[150]\n",
    "# Extract model layer outputs\n",
    "layer_outputs = [layer.output for layer in model.layers[:8]]\n",
    "\n",
    "# Rather then a model with a single output, we are going to make a model to display the feature maps\n",
    "activation_model = models.Model(inputs=model.input, outputs=layer_outputs)\n",
    "activations = activation_model.predict(img_tensor)"
   ]
  },
  {
   "cell_type": "code",
   "execution_count": 132,
   "metadata": {
    "collapsed": true
   },
   "outputs": [
    {
     "ename": "NameError",
     "evalue": "name 'img_tensor' is not defined",
     "output_type": "error",
     "traceback": [
      "\u001b[0;31m---------------------------------------------------------------------------\u001b[0m",
      "\u001b[0;31mNameError\u001b[0m                                 Traceback (most recent call last)",
      "\u001b[0;32m<ipython-input-132-b9f650a693cd>\u001b[0m in \u001b[0;36m<module>\u001b[0;34m\u001b[0m\n\u001b[1;32m      4\u001b[0m \u001b[0;31m# Rather then a model with a single output, we are going to make a model to display the feature maps\u001b[0m\u001b[0;34m\u001b[0m\u001b[0;34m\u001b[0m\u001b[0;34m\u001b[0m\u001b[0m\n\u001b[1;32m      5\u001b[0m \u001b[0mactivation_model\u001b[0m \u001b[0;34m=\u001b[0m \u001b[0mmodels\u001b[0m\u001b[0;34m.\u001b[0m\u001b[0mModel\u001b[0m\u001b[0;34m(\u001b[0m\u001b[0minputs\u001b[0m \u001b[0;34m=\u001b[0m \u001b[0mmodel\u001b[0m\u001b[0;34m.\u001b[0m\u001b[0minput\u001b[0m\u001b[0;34m,\u001b[0m \u001b[0moutputs\u001b[0m \u001b[0;34m=\u001b[0m \u001b[0mlayer_outputs\u001b[0m\u001b[0;34m)\u001b[0m\u001b[0;34m\u001b[0m\u001b[0;34m\u001b[0m\u001b[0m\n\u001b[0;32m----> 6\u001b[0;31m \u001b[0mactivations\u001b[0m \u001b[0;34m=\u001b[0m \u001b[0mactivation_model\u001b[0m\u001b[0;34m.\u001b[0m\u001b[0mpredict\u001b[0m\u001b[0;34m(\u001b[0m\u001b[0mimg_tensor\u001b[0m\u001b[0;34m)\u001b[0m\u001b[0;34m\u001b[0m\u001b[0;34m\u001b[0m\u001b[0m\n\u001b[0m",
      "\u001b[0;31mNameError\u001b[0m: name 'img_tensor' is not defined"
     ]
    }
   ],
   "source": [
    "# Extract model layer outputs\n",
    "layer_outputs = [layer.output for layer in model.layers[:10]]\n",
    "\n",
    "# Rather then a model with a single output, we are going to make a model to display the feature maps\n",
    "activation_model = models.Model(inputs = model.input, outputs = layer_outputs)\n",
    "activations = activation_model.predict(img_tensor)"
   ]
  },
  {
   "cell_type": "code",
   "execution_count": 121,
   "metadata": {
    "collapsed": true
   },
   "outputs": [
    {
     "ename": "NameError",
     "evalue": "name 'activations' is not defined",
     "output_type": "error",
     "traceback": [
      "\u001b[0;31m---------------------------------------------------------------------------\u001b[0m",
      "\u001b[0;31mNameError\u001b[0m                                 Traceback (most recent call last)",
      "\u001b[0;32m<ipython-input-121-c32d538a8ce9>\u001b[0m in \u001b[0;36m<module>\u001b[0;34m\u001b[0m\n\u001b[1;32m      9\u001b[0m     \u001b[0mcolumn\u001b[0m \u001b[0;34m=\u001b[0m \u001b[0mi\u001b[0m\u001b[0;34m%\u001b[0m\u001b[0;36m4\u001b[0m\u001b[0;34m\u001b[0m\u001b[0;34m\u001b[0m\u001b[0m\n\u001b[1;32m     10\u001b[0m     \u001b[0max\u001b[0m \u001b[0;34m=\u001b[0m \u001b[0maxes\u001b[0m\u001b[0;34m[\u001b[0m\u001b[0mrow\u001b[0m\u001b[0;34m,\u001b[0m \u001b[0mcolumn\u001b[0m\u001b[0;34m]\u001b[0m\u001b[0;34m\u001b[0m\u001b[0;34m\u001b[0m\u001b[0m\n\u001b[0;32m---> 11\u001b[0;31m     \u001b[0mcur_layer\u001b[0m \u001b[0;34m=\u001b[0m \u001b[0mactivations\u001b[0m\u001b[0;34m[\u001b[0m\u001b[0mi\u001b[0m\u001b[0;34m]\u001b[0m\u001b[0;34m\u001b[0m\u001b[0;34m\u001b[0m\u001b[0m\n\u001b[0m\u001b[1;32m     12\u001b[0m     \u001b[0max\u001b[0m\u001b[0;34m.\u001b[0m\u001b[0mmatshow\u001b[0m\u001b[0;34m(\u001b[0m\u001b[0mcur_layer\u001b[0m\u001b[0;34m[\u001b[0m\u001b[0;36m0\u001b[0m\u001b[0;34m,\u001b[0m \u001b[0;34m:\u001b[0m\u001b[0;34m,\u001b[0m \u001b[0;34m:\u001b[0m\u001b[0;34m,\u001b[0m \u001b[0;36m29\u001b[0m\u001b[0;34m]\u001b[0m\u001b[0;34m,\u001b[0m \u001b[0mcmap\u001b[0m\u001b[0;34m=\u001b[0m\u001b[0;34m'viridis'\u001b[0m\u001b[0;34m)\u001b[0m\u001b[0;34m\u001b[0m\u001b[0;34m\u001b[0m\u001b[0m\n\u001b[1;32m     13\u001b[0m     \u001b[0max\u001b[0m\u001b[0;34m.\u001b[0m\u001b[0mxaxis\u001b[0m\u001b[0;34m.\u001b[0m\u001b[0mset_ticks_position\u001b[0m\u001b[0;34m(\u001b[0m\u001b[0;34m'bottom'\u001b[0m\u001b[0;34m)\u001b[0m\u001b[0;34m\u001b[0m\u001b[0;34m\u001b[0m\u001b[0m\n",
      "\u001b[0;31mNameError\u001b[0m: name 'activations' is not defined"
     ]
    },
    {
     "data": {
      "image/png": "[encoded data removed]",
      "text/plain": [
       "<Figure size 864x576 with 8 Axes>"
      ]
     },
     "metadata": {
      "needs_background": "light"
     },
     "output_type": "display_data"
    }
   ],
   "source": [
    "fig, axes = plt.subplots(2,4, figsize=(12,8))\n",
    "\n",
    "layer_names = []\n",
    "for layer in model.layers[:8]:\n",
    "    layer_names.append(layer.name)\n",
    "    \n",
    "for i in range(8):\n",
    "    row = i//4\n",
    "    column = i%4\n",
    "    ax = axes[row, column]\n",
    "    cur_layer = activations[i]\n",
    "    ax.matshow(cur_layer[0, :, :, 29], cmap='viridis')\n",
    "    ax.xaxis.set_ticks_position('bottom')\n",
    "    ax.set_title(layer_names[i])"
   ]
  },
  {
   "cell_type": "code",
   "execution_count": 147,
   "metadata": {},
   "outputs": [],
   "source": [
    "#create a dictionary that will be used to construct our barchart that will contain accuracy metrics for our train and test set for each model that we ran\n",
    "auc_dict = {'Model': ['Baseline','Baseline', 'Simple_ConvNet', 'Simple_ConvNet', 'VGG16', 'VGG16','ResNet', 'ResNet'], \n",
    "            'Accuracy': [.6337, .7513, .7784, .7795, .9988, .9051, .5455, .6948], \n",
    "            'type':['Train','Test','Train','Test','Train','Test','Train','Test']}"
   ]
  },
  {
   "cell_type": "code",
   "execution_count": 148,
   "metadata": {},
   "outputs": [
    {
     "data": {
      "text/plain": [
       "<matplotlib.legend.Legend at 0xb88923ef0>"
      ]
     },
     "execution_count": 148,
     "metadata": {},
     "output_type": "execute_result"
    },
    {
     "data": {
      "image/png": "[encoded data removed]",
      "text/plain": [
       "<Figure size 864x576 with 1 Axes>"
      ]
     },
     "metadata": {
      "needs_background": "light"
     },
     "output_type": "display_data"
    }
   ],
   "source": [
    "# Bar plot that shows the different accuracy scores for each of our models, train and test set. \n",
    "plt.figure(figsize=(12,8))\n",
    "accuracy = pd.DataFrame(auc_dict, columns = auc_dict.keys())\n",
    "ax = sns.barplot(x=\"Model\", y=\"Accuracy\", hue=\"type\", data=accuracy, color='red')\n",
    "plt.title('Comparison of Accuracy by Model',fontsize = 15)\n",
    "plt.legend(loc=\"upper right\")"
   ]
  }
 ],
 "metadata": {
  "kernelspec": {
   "display_name": "Python 3",
   "language": "python",
   "name": "python3"
  },
  "language_info": {
   "codemirror_mode": {
    "name": "ipython",
    "version": 3
   },
   "file_extension": ".py",
   "mimetype": "text/x-python",
   "name": "python",
   "nbconvert_exporter": "python",
   "pygments_lexer": "ipython3",
   "version": "3.7.1"
  }
 },
 "nbformat": 4,
 "nbformat_minor": 2
}
